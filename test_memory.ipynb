{
 "cells": [
  {
   "cell_type": "code",
   "execution_count": 1,
   "id": "125b87db-c26e-4e56-9400-07df6d406e16",
   "metadata": {},
   "outputs": [
    {
     "name": "stderr",
     "output_type": "stream",
     "text": [
      "/Users/samhi/Downloads/memosynth-lite/venv/lib/python3.9/site-packages/urllib3/__init__.py:35: NotOpenSSLWarning: urllib3 v2 only supports OpenSSL 1.1.1+, currently the 'ssl' module is compiled with 'LibreSSL 2.8.3'. See: https://github.com/urllib3/urllib3/issues/3020\n",
      "  warnings.warn(\n",
      "/Users/samhi/Downloads/memosynth-lite/venv/lib/python3.9/site-packages/tqdm/auto.py:21: TqdmWarning: IProgress not found. Please update jupyter and ipywidgets. See https://ipywidgets.readthedocs.io/en/stable/user_install.html\n",
      "  from .autonotebook import tqdm as notebook_tqdm\n"
     ]
    },
    {
     "name": "stdout",
     "output_type": "stream",
     "text": [
      "Memory [1] inserted into Qdrant!\n",
      "Memory [1] logged to DuckDB!\n",
      "Memory [1] added to Neo4j graph!\n",
      "Memory [8a86f314-bf15-4327-a08b-7be7d2a6ff11] inserted into Qdrant!\n",
      "Memory [8a86f314-bf15-4327-a08b-7be7d2a6ff11] logged to DuckDB!\n",
      "Memory [8a86f314-bf15-4327-a08b-7be7d2a6ff11] added to Neo4j graph!\n",
      " Difference in summaries:\n",
      "1: User mentioned concerns about churn rate in Q3.\n",
      "2: Customer discussed declining customer retention.\n",
      "🤖 Resolved Summary: The client was concerned about Q2 margin and infrastructure costs.\n"
     ]
    }
   ],
   "source": [
    "from memosynth.memory_client import diff, resolve, load_memory_and_insert\n",
    "from memosynth.timeline_store import read_timeline"
   ]
  },
  {
   "cell_type": "markdown",
   "id": "4c9aef91-ae2f-47dc-94e9-c059a1d5fa1b",
   "metadata": {},
   "source": [
    " 2. Sample Memories"
   ]
  },
  {
   "cell_type": "code",
   "execution_count": 3,
   "id": "7a719e51-65e9-4678-8d49-47f711edfa59",
   "metadata": {},
   "outputs": [],
   "source": [
    "mem1 = {\n",
    "    \"id\": 1,\n",
    "    \"summary\": \"Client asked about margin drop in Q2.\",\n",
    "    \"content\": \"Today I learned about vector databases and Qdrant.\",\n",
    "    \"project\": \"demo_project\",\n",
    "    \"agent\": \"doc_bot\",\n",
    "    \"type\": \"insight\",\n",
    "    \"tags\": [\"finance\", \"Q2\", \"risk\"],\n",
    "    \"source\": \"Earnings_Report_Q2.pdf\",\n",
    "    \"author\": \"doc_bot\",\n",
    "    \"created_at\": \"2025-06-19\",\n",
    "    \"version\": 1,\n",
    "    \"confidence\": 0.9,\n",
    "    \"visibility\": \"project\",\n",
    "    \"sensitivity\": \"medium\",\n",
    "    \"timestamp\": \"2025-06-19T12:00:00Z\"\n",
    "}\n",
    "\n",
    "mem2 = {\n",
    "    \"id\": \"test-uuid-002\",\n",
    "    \"summary\": \"Client was worried about infrastructure costs in Q2.\",\n",
    "    \"source\": \"Earnings_Report_Q2.pdf\",\n",
    "    \"timestamp\": \"2025-06-19T13:30:00Z\"\n",
    "}"
   ]
  },
  {
   "cell_type": "markdown",
   "id": "f31ee36b-acb4-423b-ae19-c713f6345016",
   "metadata": {},
   "source": [
    "3. Compare and Resolve"
   ]
  },
  {
   "cell_type": "code",
   "execution_count": 5,
   "id": "6e37ae28-3de9-4598-bd21-2d5581a64ea9",
   "metadata": {},
   "outputs": [
    {
     "name": "stdout",
     "output_type": "stream",
     "text": [
      " Diff:\n",
      " Difference in summaries:\n",
      "1: Client asked about margin drop in Q2.\n",
      "2: Client was worried about infrastructure costs in Q2.\n",
      "\n",
      " Resolved:\n",
      "🤖 Resolved Summary: The client was concerned about Q2 margin and infrastructure costs.\n"
     ]
    }
   ],
   "source": [
    "# View difference\n",
    "print(\" Diff:\")\n",
    "print(diff(mem1, mem2))\n",
    "\n",
    "# View resolved memory\n",
    "print(\"\\n Resolved:\")\n",
    "print(resolve(mem1, mem2))"
   ]
  },
  {
   "cell_type": "markdown",
   "id": "c1a065a9-c616-43a1-8638-1965ae33c4ad",
   "metadata": {},
   "source": [
    "4. Insert Memory into All Backends"
   ]
  },
  {
   "cell_type": "code",
   "execution_count": 7,
   "id": "dab8258f-6826-4e99-962b-8038223c2863",
   "metadata": {},
   "outputs": [
    {
     "name": "stdout",
     "output_type": "stream",
     "text": [
      "Memory [1] inserted into Qdrant!\n",
      "Memory [1] logged to DuckDB!\n",
      "Memory [1] added to Neo4j graph!\n",
      "Memory [8a86f314-bf15-4327-a08b-7be7d2a6ff11] inserted into Qdrant!\n",
      "Memory [8a86f314-bf15-4327-a08b-7be7d2a6ff11] logged to DuckDB!\n",
      "Memory [8a86f314-bf15-4327-a08b-7be7d2a6ff11] added to Neo4j graph!\n"
     ]
    }
   ],
   "source": [
    "# Insert a memory into Qdrant + DuckDB + Neo4j\n",
    "load_memory_and_insert()"
   ]
  },
  {
   "cell_type": "markdown",
   "id": "9e20b3b9-a1fd-4984-88b5-5c7c3e3a4906",
   "metadata": {},
   "source": [
    "5. View Timeline History"
   ]
  },
  {
   "cell_type": "code",
   "execution_count": 9,
   "id": "e8ed939a-bd33-4d7f-87f2-5811be8dcb79",
   "metadata": {},
   "outputs": [
    {
     "data": {
      "text/html": [
       "<div>\n",
       "<style scoped>\n",
       "    .dataframe tbody tr th:only-of-type {\n",
       "        vertical-align: middle;\n",
       "    }\n",
       "\n",
       "    .dataframe tbody tr th {\n",
       "        vertical-align: top;\n",
       "    }\n",
       "\n",
       "    .dataframe thead th {\n",
       "        text-align: right;\n",
       "    }\n",
       "</style>\n",
       "<table border=\"1\" class=\"dataframe\">\n",
       "  <thead>\n",
       "    <tr style=\"text-align: right;\">\n",
       "      <th></th>\n",
       "      <th>id</th>\n",
       "      <th>summary</th>\n",
       "      <th>timestamp</th>\n",
       "      <th>version</th>\n",
       "    </tr>\n",
       "  </thead>\n",
       "  <tbody>\n",
       "    <tr>\n",
       "      <th>0</th>\n",
       "      <td>test1</td>\n",
       "      <td>User asked about fixing the Neo4j connection e...</td>\n",
       "      <td>N/A</td>\n",
       "      <td>1</td>\n",
       "    </tr>\n",
       "    <tr>\n",
       "      <th>1</th>\n",
       "      <td>8a86f314-bf15-4327-a08b-7be7d2a6ff11</td>\n",
       "      <td>User asked about fixing the Neo4j connection e...</td>\n",
       "      <td>N/A</td>\n",
       "      <td>1</td>\n",
       "    </tr>\n",
       "    <tr>\n",
       "      <th>2</th>\n",
       "      <td>8a86f314-bf15-4327-a08b-7be7d2a6ff11</td>\n",
       "      <td>User asked about fixing the Neo4j connection e...</td>\n",
       "      <td>N/A</td>\n",
       "      <td>1</td>\n",
       "    </tr>\n",
       "    <tr>\n",
       "      <th>3</th>\n",
       "      <td>8a86f314-bf15-4327-a08b-7be7d2a6ff11</td>\n",
       "      <td>User asked about fixing the Neo4j connection e...</td>\n",
       "      <td>N/A</td>\n",
       "      <td>1</td>\n",
       "    </tr>\n",
       "    <tr>\n",
       "      <th>4</th>\n",
       "      <td>8a86f314-bf15-4327-a08b-7be7d2a6ff11</td>\n",
       "      <td>User asked about fixing the Neo4j connection e...</td>\n",
       "      <td>N/A</td>\n",
       "      <td>1</td>\n",
       "    </tr>\n",
       "  </tbody>\n",
       "</table>\n",
       "</div>"
      ],
      "text/plain": [
       "                                     id  \\\n",
       "0                                 test1   \n",
       "1  8a86f314-bf15-4327-a08b-7be7d2a6ff11   \n",
       "2  8a86f314-bf15-4327-a08b-7be7d2a6ff11   \n",
       "3  8a86f314-bf15-4327-a08b-7be7d2a6ff11   \n",
       "4  8a86f314-bf15-4327-a08b-7be7d2a6ff11   \n",
       "\n",
       "                                             summary timestamp  version  \n",
       "0  User asked about fixing the Neo4j connection e...       N/A        1  \n",
       "1  User asked about fixing the Neo4j connection e...       N/A        1  \n",
       "2  User asked about fixing the Neo4j connection e...       N/A        1  \n",
       "3  User asked about fixing the Neo4j connection e...       N/A        1  \n",
       "4  User asked about fixing the Neo4j connection e...       N/A        1  "
      ]
     },
     "execution_count": 9,
     "metadata": {},
     "output_type": "execute_result"
    }
   ],
   "source": [
    "# Check if memory is inserted properly in DuckDB\n",
    "timeline_df = read_timeline()\n",
    "timeline_df.head()"
   ]
  },
  {
   "cell_type": "code",
   "execution_count": null,
   "id": "106a80c6-b31a-4ef0-b485-0d25b84f6095",
   "metadata": {},
   "outputs": [],
   "source": []
  }
 ],
 "metadata": {
  "kernelspec": {
   "display_name": "venv",
   "language": "python",
   "name": "venv"
  },
  "language_info": {
   "codemirror_mode": {
    "name": "ipython",
    "version": 3
   },
   "file_extension": ".py",
   "mimetype": "text/x-python",
   "name": "python",
   "nbconvert_exporter": "python",
   "pygments_lexer": "ipython3",
   "version": "3.9.6"
  }
 },
 "nbformat": 4,
 "nbformat_minor": 5
}
