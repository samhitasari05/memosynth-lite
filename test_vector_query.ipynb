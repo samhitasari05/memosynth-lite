{
 "cells": [
  {
   "cell_type": "markdown",
   "id": "9006c898-eb11-47fe-bf01-d59fe0621d7b",
   "metadata": {},
   "source": [
    " 1. Imports"
   ]
  },
  {
   "cell_type": "code",
   "execution_count": 15,
   "id": "df30419f-5554-408d-aced-048a929925c1",
   "metadata": {},
   "outputs": [
    {
     "name": "stdout",
     "output_type": "stream",
     "text": [
      "Memory [1] inserted into Qdrant!\n",
      "Memory [1] logged to DuckDB!\n",
      "Memory [1] added to Neo4j graph!\n",
      "Memory [8a86f314-bf15-4327-a08b-7be7d2a6ff11] inserted into Qdrant!\n",
      "Memory [8a86f314-bf15-4327-a08b-7be7d2a6ff11] logged to DuckDB!\n",
      "Memory [8a86f314-bf15-4327-a08b-7be7d2a6ff11] added to Neo4j graph!\n"
     ]
    }
   ],
   "source": [
    "import os\n",
    "import sys\n",
    "import json\n",
    "import duckdb\n",
    "import pandas as pd\n",
    "\n",
    "# Set project root path for module imports\n",
    "project_root = os.path.abspath(os.path.join(os.getcwd(), '..'))\n",
    "sys.path.append(project_root)\n",
    "\n",
    "from memosynth.vector_store import write_memory, query_memory, create_collection\n",
    "from memosynth.memory_client import diff, resolve, create_collection, init_timeline_table, load_memory_and_insert"
   ]
  },
  {
   "cell_type": "markdown",
   "id": "7c3148e3-9b12-4ccf-ba0f-19ed00675816",
   "metadata": {},
   "source": [
    "2. Load Memory JSON File"
   ]
  },
  {
   "cell_type": "code",
   "execution_count": 2,
   "id": "9aca95e6-07b2-468a-8089-b91bccdf3632",
   "metadata": {},
   "outputs": [
    {
     "name": "stdout",
     "output_type": "stream",
     "text": [
      " Sample memory loaded:\n",
      "[\n",
      "  {\n",
      "    \"id\": 1,\n",
      "    \"content\": \"Today I learned about vector databases and Qdrant.\",\n",
      "    \"project\": \"demo_project\",\n",
      "    \"agent\": \"doc_bot\",\n",
      "    \"summary\": \"Client asked about margin drop in Q2.\",\n",
      "    \"type\": \"insight\",\n",
      "    \"tags\": [\n",
      "      \"finance\",\n",
      "      \"Q2\",\n",
      "      \"risk\"\n",
      "    ],\n",
      "    \"source\": \"Earnings_Report_Q2.pdf\",\n",
      "    \"author\": \"doc_bot\",\n",
      "    \"created_at\": \"2025-06-19\",\n",
      "    \"version\": 1,\n",
      "    \"confidence\": 0.9,\n",
      "    \"visibility\": \"project\",\n",
      "    \"sensitivity\": \"medium\",\n",
      "    \"timestamp\": \"2025-06-19T12:00:00Z\"\n",
      "  },\n",
      "  {\n",
      "    \"id\": \"8a86f314-bf15-4327-a08b-7be7d2a6ff11\",\n",
      "    \"summary\": \"User asked about fixing the Neo4j connection error.\",\n",
      "    \"source\": \"testing\",\n",
      "    \"timestamp\": \"2025-06-21T17:30:00Z\"\n",
      "  }\n",
      "]\n"
     ]
    }
   ],
   "source": [
    "# Load a memory JSON object\n",
    "memory_path = \"/Users/samhi/Downloads/memosynth-lite/config/sample_memory.json\"\n",
    "\n",
    "with open(memory_path, \"r\") as f:\n",
    "    memory = json.load(f)\n",
    "\n",
    "print(\" Sample memory loaded:\")\n",
    "print(json.dumps(memory, indent=2))\n"
   ]
  },
  {
   "cell_type": "markdown",
   "id": "2c6bf166-34e8-4dbd-810e-538c562a8637",
   "metadata": {},
   "source": [
    "3. Create Qdrant Collection and Insert Memory"
   ]
  },
  {
   "cell_type": "code",
   "execution_count": 5,
   "id": "04dd2b84-6bf4-4f3d-a378-2cedb95ea047",
   "metadata": {},
   "outputs": [
    {
     "name": "stdout",
     "output_type": "stream",
     "text": [
      " Qdrant collection created or already exists.\n",
      " Memory written to Qdrant: 1\n",
      " Skipped incomplete memory: 8a86f314-bf15-4327-a08b-7be7d2a6ff11 (Missing keys)\n"
     ]
    }
   ],
   "source": [
    "create_collection()\n",
    "print(\" Qdrant collection created or already exists.\")\n",
    "\n",
    "# Loop through each memory item (because your JSON is a list)\n",
    "required_keys = [\"id\", \"summary\", \"created_at\", \"content\"]\n",
    "\n",
    "for mem in memory:\n",
    "    if all(k in mem for k in required_keys):\n",
    "        write_memory(mem)\n",
    "        print(f\" Memory written to Qdrant: {mem['id']}\")\n",
    "    else:\n",
    "        print(f\" Skipped incomplete memory: {mem.get('id', 'unknown')} (Missing keys)\")\n"
   ]
  },
  {
   "cell_type": "markdown",
   "id": "49af31dd-5e31-4f06-8415-2f5a904d6aa2",
   "metadata": {},
   "source": [
    "4. Query Memory from Qdrant"
   ]
  },
  {
   "cell_type": "code",
   "execution_count": 7,
   "id": "7c26a1e2-07e1-431e-89c6-0a546db20a0f",
   "metadata": {},
   "outputs": [
    {
     "name": "stdout",
     "output_type": "stream",
     "text": [
      "\n",
      " Top matches for: 'Tell me about vector databases'\n",
      "\n",
      "1. Summary: User asked about fixing the Neo4j connection error.\n",
      "   ➤ Project: N/A\n",
      "   ➤ Created At: N/A\n",
      "   ➤ Tags: \n",
      "\n",
      "2. Summary: User asked about fixing the Neo4j connection error.\n",
      "   ➤ Project: N/A\n",
      "   ➤ Created At: N/A\n",
      "   ➤ Tags: \n",
      "\n",
      "3. Summary: User asked about fixing the Neo4j connection error.\n",
      "   ➤ Project: N/A\n",
      "   ➤ Created At: N/A\n",
      "   ➤ Tags: \n",
      "\n"
     ]
    }
   ],
   "source": [
    "# Query Qdrant with a prompt\n",
    "query_text = \"Tell me about vector databases\"\n",
    "results = query_memory(query_text)\n",
    "\n",
    "print(f\"\\n Top matches for: '{query_text}'\\n\")\n",
    "for idx, mem in enumerate(results, 1):\n",
    "    print(f\"{idx}. Summary: {mem.get('summary', 'No summary')}\")\n",
    "    print(f\"   ➤ Project: {mem.get('project', 'N/A')}\")\n",
    "    print(f\"   ➤ Created At: {mem.get('created_at', 'N/A')}\")\n",
    "    print(f\"   ➤ Tags: {', '.join(mem.get('tags', []))}\\n\")"
   ]
  },
  {
   "cell_type": "markdown",
   "id": "74eca0c6-cac6-47e9-ab62-35bdfd86dbfe",
   "metadata": {},
   "source": [
    "5. Insert Memory into DuckDB"
   ]
  },
  {
   "cell_type": "code",
   "execution_count": 9,
   "id": "c982f5a4-d1b1-421d-bbd0-ed2cb35c0700",
   "metadata": {},
   "outputs": [
    {
     "name": "stdout",
     "output_type": "stream",
     "text": [
      "Memory inserted into DuckDB.\n"
     ]
    }
   ],
   "source": [
    "# Convert the memory to a DataFrame\n",
    "df = pd.DataFrame([memory])\n",
    "\n",
    "# Connect to DuckDB file\n",
    "con = duckdb.connect(\"memory_log.duckdb\")\n",
    "\n",
    "# Register DataFrame as a view\n",
    "con.register(\"df_view\", df)\n",
    "\n",
    "# Create table and insert data (if not already exists)\n",
    "con.execute(\"\"\"\n",
    "    CREATE TABLE IF NOT EXISTS memory_log AS\n",
    "    SELECT * FROM df_view\n",
    "\"\"\")\n",
    "\n",
    "print(\"Memory inserted into DuckDB.\")"
   ]
  },
  {
   "cell_type": "markdown",
   "id": "f32fdbd5-4ccb-49da-bf85-29ae971ecc74",
   "metadata": {},
   "source": [
    " 6. Query from DuckDB and Display"
   ]
  },
  {
   "cell_type": "code",
   "execution_count": 11,
   "id": "e44db8eb-3610-47f0-bda3-31b061528ede",
   "metadata": {},
   "outputs": [
    {
     "name": "stdout",
     "output_type": "stream",
     "text": [
      " DuckDB Stored Memories:\n",
      "                                 summary       project  created_at\n",
      "0  Client asked about margin drop in Q2.  demo_project  2025-06-19\n"
     ]
    }
   ],
   "source": [
    "# Simple query: Get key info from memory_log\n",
    "result_df = con.execute(\"SELECT summary, project, created_at FROM memory_log\").df()\n",
    "\n",
    "print(\" DuckDB Stored Memories:\")\n",
    "print(result_df)\n"
   ]
  },
  {
   "cell_type": "markdown",
   "id": "22257c37-7e37-4afe-b3f1-56bdca401bfa",
   "metadata": {},
   "source": [
    "7. Cypher Query to Inspect Neo4j Memory Nodes"
   ]
  },
  {
   "cell_type": "code",
   "execution_count": 13,
   "id": "d1f10262-8025-4fd0-8493-b87aefb471e3",
   "metadata": {},
   "outputs": [
    {
     "name": "stdout",
     "output_type": "stream",
     "text": [
      " Memory nodes in Neo4j:\n",
      "\n",
      "ID: 1\n",
      "Content: Today I learned about vector databases and Qdrant.\n",
      "Timestamp: 2025-06-19T12:00:00Z\n",
      "----------------------------------------\n",
      "ID: 1\n",
      "Content: Today I learned about vector databases and Qdrant.\n",
      "Timestamp: 2025-06-19T12:00:00Z\n",
      "----------------------------------------\n",
      "ID: 1\n",
      "Content: Today I learned about vector databases and Qdrant.\n",
      "Timestamp: 2025-06-19T12:00:00Z\n",
      "----------------------------------------\n",
      "ID: test1\n",
      "Content: N/A\n",
      "Timestamp: 2025-06-21T17:30:00Z\n",
      "----------------------------------------\n",
      "ID: 1\n",
      "Content: Today I learned about vector databases and Qdrant.\n",
      "Timestamp: 2025-06-19T12:00:00Z\n",
      "----------------------------------------\n",
      "ID: test1\n",
      "Content: N/A\n",
      "Timestamp: 2025-06-21T17:30:00Z\n",
      "----------------------------------------\n",
      "ID: 1\n",
      "Content: Today I learned about vector databases and Qdrant.\n",
      "Timestamp: 2025-06-19T12:00:00Z\n",
      "----------------------------------------\n",
      "ID: test1\n",
      "Content: N/A\n",
      "Timestamp: 2025-06-21T17:30:00Z\n",
      "----------------------------------------\n",
      "ID: 1\n",
      "Content: Today I learned about vector databases and Qdrant.\n",
      "Timestamp: 2025-06-19T12:00:00Z\n",
      "----------------------------------------\n",
      "ID: 1\n",
      "Content: Today I learned about vector databases and Qdrant.\n",
      "Timestamp: 2025-06-19T12:00:00Z\n",
      "----------------------------------------\n",
      "ID: 1\n",
      "Content: Today I learned about vector databases and Qdrant.\n",
      "Timestamp: 2025-06-19T12:00:00Z\n",
      "----------------------------------------\n",
      "ID: 1\n",
      "Content: Today I learned about vector databases and Qdrant.\n",
      "Timestamp: 2025-06-19T12:00:00Z\n",
      "----------------------------------------\n",
      "ID: 8a86f314-bf15-4327-a08b-7be7d2a6ff11\n",
      "Content: N/A\n",
      "Timestamp: 2025-06-21T17:30:00Z\n",
      "----------------------------------------\n",
      "ID: 1\n",
      "Content: Today I learned about vector databases and Qdrant.\n",
      "Timestamp: 2025-06-19T12:00:00Z\n",
      "----------------------------------------\n",
      "ID: 8a86f314-bf15-4327-a08b-7be7d2a6ff11\n",
      "Content: N/A\n",
      "Timestamp: 2025-06-21T17:30:00Z\n",
      "----------------------------------------\n",
      "ID: 1\n",
      "Content: Today I learned about vector databases and Qdrant.\n",
      "Timestamp: 2025-06-19T12:00:00Z\n",
      "----------------------------------------\n",
      "ID: 8a86f314-bf15-4327-a08b-7be7d2a6ff11\n",
      "Content: N/A\n",
      "Timestamp: 2025-06-21T17:30:00Z\n",
      "----------------------------------------\n",
      "ID: 1\n",
      "Content: Today I learned about vector databases and Qdrant.\n",
      "Timestamp: 2025-06-19T12:00:00Z\n",
      "----------------------------------------\n"
     ]
    }
   ],
   "source": [
    "from memosynth.graph_store import driver\n",
    "\n",
    "# Run a test query to return all Memory nodes\n",
    "with driver.session() as session:\n",
    "    results = session.run(\"MATCH (m:Memory) RETURN m.id AS id, m.content AS content, m.timestamp AS timestamp\")\n",
    "    print(\" Memory nodes in Neo4j:\\n\")\n",
    "    for record in results:\n",
    "        print(f\"ID: {record['id']}\")\n",
    "        print(f\"Content: {record['content']}\")\n",
    "        print(f\"Timestamp: {record['timestamp']}\")\n",
    "        print(\"-\" * 40)"
   ]
  },
  {
   "cell_type": "code",
   "execution_count": 17,
   "id": "584938ed-74ca-474b-bbbe-b72556b36dc1",
   "metadata": {},
   "outputs": [
    {
     "name": "stdout",
     "output_type": "stream",
     "text": [
      " Difference in summaries:\n",
      "1: Client asked about margin drop in Q2.\n",
      "2: Client was worried about infrastructure costs in Q2.\n",
      "🤖 Resolved Summary: The client was concerned about Q2 margin and infrastructure costs.\n",
      "Memory [1] inserted into Qdrant!\n",
      "Memory [1] logged to DuckDB!\n",
      "Memory [1] added to Neo4j graph!\n",
      "Memory [8a86f314-bf15-4327-a08b-7be7d2a6ff11] inserted into Qdrant!\n",
      "Memory [8a86f314-bf15-4327-a08b-7be7d2a6ff11] logged to DuckDB!\n",
      "Memory [8a86f314-bf15-4327-a08b-7be7d2a6ff11] added to Neo4j graph!\n"
     ]
    }
   ],
   "source": [
    "from memosynth.memory_client import diff, resolve, create_collection, init_timeline_table, load_memory_and_insert\n",
    "\n",
    "mem1 = {\"summary\": \"Client asked about margin drop in Q2.\"}\n",
    "mem2 = {\"summary\": \"Client was worried about infrastructure costs in Q2.\"}\n",
    "\n",
    "print(diff(mem1, mem2))\n",
    "print(resolve(mem1, mem2))\n",
    "\n",
    "if __name__ == \"__main__\":\n",
    "    create_collection()\n",
    "    init_timeline_table()\n",
    "    load_memory_and_insert()\n"
   ]
  },
  {
   "cell_type": "code",
   "execution_count": null,
   "id": "08c2a120-6365-46f9-bbd3-ad398b9289b6",
   "metadata": {},
   "outputs": [],
   "source": []
  }
 ],
 "metadata": {
  "kernelspec": {
   "display_name": "venv",
   "language": "python",
   "name": "venv"
  },
  "language_info": {
   "codemirror_mode": {
    "name": "ipython",
    "version": 3
   },
   "file_extension": ".py",
   "mimetype": "text/x-python",
   "name": "python",
   "nbconvert_exporter": "python",
   "pygments_lexer": "ipython3",
   "version": "3.9.6"
  }
 },
 "nbformat": 4,
 "nbformat_minor": 5
}
