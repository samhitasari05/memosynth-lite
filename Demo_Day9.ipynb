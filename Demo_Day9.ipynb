{
 "cells": [
  {
   "cell_type": "code",
   "execution_count": 1,
   "id": "417246e8-d7d2-49f6-a349-e5bc1d9c07ab",
   "metadata": {},
   "outputs": [],
   "source": [
    "import sys\n",
    "import os\n",
    "sys.path.append(os.path.abspath(\"..\"))  \n",
    "sys.path.append(os.path.abspath(\".\"))  \n",
    "sys.path.append(os.path.abspath(\"../memosynth-lite\")) "
   ]
  },
  {
   "cell_type": "code",
   "execution_count": 3,
   "id": "f6e8f1e6-f300-450b-b5d6-17c504695845",
   "metadata": {},
   "outputs": [
    {
     "name": "stderr",
     "output_type": "stream",
     "text": [
      "/Users/samhi/Downloads/memosynth-lite/venv/lib/python3.9/site-packages/urllib3/__init__.py:35: NotOpenSSLWarning: urllib3 v2 only supports OpenSSL 1.1.1+, currently the 'ssl' module is compiled with 'LibreSSL 2.8.3'. See: https://github.com/urllib3/urllib3/issues/3020\n",
      "  warnings.warn(\n",
      "/Users/samhi/Downloads/memosynth-lite/venv/lib/python3.9/site-packages/tqdm/auto.py:21: TqdmWarning: IProgress not found. Please update jupyter and ipywidgets. See https://ipywidgets.readthedocs.io/en/stable/user_install.html\n",
      "  from .autonotebook import tqdm as notebook_tqdm\n"
     ]
    },
    {
     "name": "stdout",
     "output_type": "stream",
     "text": [
      "Memory [1] inserted into Qdrant!\n",
      "Logging memory: {'id': 1, 'summary': 'Client asked about margin drop in Q2.', 'timestamp': '2025-06-19T12:00:00Z', 'version': 1}\n",
      "Memory [1] logged to DuckDB!\n",
      "Memory [1] added to Neo4j graph!\n",
      "Memory [2] inserted into Qdrant!\n",
      "Logging memory: {'id': 2, 'summary': 'User asked about fixing the Neo4j connection error.', 'timestamp': '2025-06-21T17:30:00Z', 'version': 1}\n",
      "Memory [2] logged to DuckDB!\n",
      "Memory [2] added to Neo4j graph!\n",
      "Memory [3] inserted into Qdrant!\n",
      "Logging memory: {'id': 3, 'summary': 'Meeting concluded with a decision to prioritize UI improvements for the MVP release.', 'timestamp': '2025-06-20T10:00:00Z', 'version': 1}\n",
      "Memory [3] logged to DuckDB!\n",
      "Memory [3] added to Neo4j graph!\n",
      "Memory [4] inserted into Qdrant!\n",
      "Logging memory: {'id': 4, 'summary': 'Memory ingestion speed improved by 35% after batch optimization.', 'timestamp': '2025-06-20T16:00:00Z', 'version': 1}\n",
      "Memory [4] logged to DuckDB!\n",
      "Memory [4] added to Neo4j graph!\n",
      "Memory [5] inserted into Qdrant!\n",
      "Logging memory: {'id': 5, 'summary': 'User requested help using GPT-4o for long-context summarization.', 'timestamp': '2025-06-21T09:15:00Z', 'version': 1}\n",
      "Memory [5] logged to DuckDB!\n",
      "Memory [5] added to Neo4j graph!\n",
      "Memory [6] inserted into Qdrant!\n",
      "Logging memory: {'id': 6, 'summary': 'Error logs indicate 401 unauthorized issue during Qdrant POST request.', 'timestamp': '2025-06-21T13:45:00Z', 'version': 1}\n",
      "Memory [6] logged to DuckDB!\n",
      "Memory [6] added to Neo4j graph!\n",
      "Memory [7] inserted into Qdrant!\n",
      "Logging memory: {'id': 7, 'summary': 'LLM-generated summary helped compress 3 documents into a single insight.', 'timestamp': '2025-06-20T15:00:00Z', 'version': 1}\n",
      "Memory [7] logged to DuckDB!\n",
      "Memory [7] added to Neo4j graph!\n",
      "Memory [8] inserted into Qdrant!\n",
      "Logging memory: {'id': 8, 'summary': 'Reminder: Follow up with finance team regarding budget approvals.', 'timestamp': '2025-06-19T11:00:00Z', 'version': 1}\n",
      "Memory [8] logged to DuckDB!\n",
      "Memory [8] added to Neo4j graph!\n",
      "Memory [9] inserted into Qdrant!\n",
      "Logging memory: {'id': 9, 'summary': 'Plan to integrate Neo4j memory graph with the chat UI next week.', 'timestamp': '2025-06-18T08:00:00Z', 'version': 1}\n",
      "Memory [9] logged to DuckDB!\n",
      "Memory [9] added to Neo4j graph!\n",
      "Memory [10] inserted into Qdrant!\n",
      "Logging memory: {'id': 10, 'summary': 'Archived memory batch from 2024 processed for backward compatibility test.', 'timestamp': '2025-06-17T10:30:00Z', 'version': 1}\n",
      "Memory [10] logged to DuckDB!\n",
      "Memory [10] added to Neo4j graph!\n",
      " Difference in summaries:\n",
      "1: User mentioned concerns about churn rate in Q3.\n",
      "2: Customer discussed declining customer retention.\n",
      "🤖 Resolved Summary: The client was concerned about Q2 margin and infrastructure costs.\n"
     ]
    }
   ],
   "source": [
    "# ------------------ Step 1: Import Functions ------------------\n",
    "from memosynth.vector_store import write_memory, query_memory\n",
    "from memosynth.summarizer import summarize_memories\n",
    "from memosynth.timeline_store import log_memory\n",
    "from memosynth.graph_store import create_memory_node\n",
    "\n",
    "# Optional if you implemented these (you can remove if not used)\n",
    "from memosynth.memory_client import diff, resolve\n",
    "\n",
    "import uuid\n",
    "from datetime import datetime"
   ]
  },
  {
   "cell_type": "code",
   "execution_count": 9,
   "id": "5b2ca0df-d969-4ee7-a2dd-cd4729d0d1df",
   "metadata": {},
   "outputs": [],
   "source": [
    "# Step 2: Create sample memories\n",
    "\n",
    "memory1 = {\n",
    "    \"id\": str(uuid.uuid4()),\n",
    "    \"project\": \"demo_project\",\n",
    "    \"agent\": \"doc_bot\",\n",
    "    \"summary\": \"Client asked about Q2 revenue drop.\",\n",
    "    \"type\": \"insight\",\n",
    "    \"tags\": [\"Q2\", \"revenue\"],\n",
    "    \"source\": \"report1.pdf\",\n",
    "    \"author\": \"doc_bot\",\n",
    "    \"created_at\": datetime.now().isoformat(),\n",
    "    \"version\": 1,\n",
    "    \"confidence\": 0.9,\n",
    "    \"visibility\": \"project\",\n",
    "    \"sensitivity\": \"low\"\n",
    "}\n",
    "\n",
    "memory2 = {\n",
    "    \"id\": str(uuid.uuid4()),\n",
    "    \"project\": \"demo_project\",\n",
    "    \"agent\": \"doc_bot\",\n",
    "    \"summary\": \"Q2 margins declined due to rising costs.\",\n",
    "    \"type\": \"insight\",\n",
    "    \"tags\": [\"Q2\", \"margins\"],\n",
    "    \"source\": \"report2.pdf\",\n",
    "    \"author\": \"doc_bot\",\n",
    "    \"created_at\": datetime.now().isoformat(),\n",
    "    \"version\": 1,\n",
    "    \"confidence\": 0.85,\n",
    "    \"visibility\": \"project\",\n",
    "    \"sensitivity\": \"low\"\n",
    "}\n",
    "\n",
    "memory3 = {\n",
    "    \"id\": str(uuid.uuid4()),\n",
    "    \"project\": \"demo_project\",\n",
    "    \"agent\": \"doc_bot\",\n",
    "    \"summary\": \"Client flagged margin pressure from supply chain.\",\n",
    "    \"type\": \"insight\",\n",
    "    \"tags\": [\"Q2\", \"supply_chain\"],\n",
    "    \"source\": \"email1.eml\",\n",
    "    \"author\": \"doc_bot\",\n",
    "    \"created_at\": datetime.now().isoformat(),\n",
    "    \"version\": 1,\n",
    "    \"confidence\": 0.92,\n",
    "    \"visibility\": \"project\",\n",
    "    \"sensitivity\": \"low\"\n",
    "}"
   ]
  },
  {
   "cell_type": "code",
   "execution_count": 13,
   "id": "a63232ac-0a5e-45b2-832b-61df6ab81b22",
   "metadata": {},
   "outputs": [
    {
     "name": "stdout",
     "output_type": "stream",
     "text": [
      "Logging memory: {'id': 'b19f443a-1688-4693-a2a2-775d5528deae', 'summary': 'Client asked about Q2 revenue drop.', 'timestamp': '2025-06-23T13:50:44.368393', 'version': 1}\n",
      "Logging memory: {'id': 'b19f443a-1688-4693-a2a2-775d5528deae', 'summary': 'Client asked about Q2 revenue drop.', 'timestamp': '2025-06-23T13:50:44.368393', 'version': 1}\n",
      "Logging memory: {'id': 'fe09d7b3-4553-4ece-8dfb-b486279ef07b', 'summary': 'Q2 margins declined due to rising costs.', 'timestamp': '2025-06-23T13:50:44.368667', 'version': 1}\n",
      "Logging memory: {'id': 'fe09d7b3-4553-4ece-8dfb-b486279ef07b', 'summary': 'Q2 margins declined due to rising costs.', 'timestamp': '2025-06-23T13:50:44.368667', 'version': 1}\n",
      "Logging memory: {'id': '135d5c0c-4011-4b0b-a9f8-e4ead27d03d5', 'summary': 'Client flagged margin pressure from supply chain.', 'timestamp': '2025-06-23T13:50:44.368764', 'version': 1}\n",
      "Logging memory: {'id': '135d5c0c-4011-4b0b-a9f8-e4ead27d03d5', 'summary': 'Client flagged margin pressure from supply chain.', 'timestamp': '2025-06-23T13:50:44.368764', 'version': 1}\n",
      " All 3 memories written to Qdrant, logged in DuckDB, and added to Neo4j.\n"
     ]
    }
   ],
   "source": [
    "# Step 3: Write memories to vector DB, log system, and graph\n",
    "\n",
    "for mem in [memory1, memory2, memory3]:\n",
    "    write_memory(mem)\n",
    "    log_memory(mem)\n",
    "    create_memory_node(mem)\n",
    "\n",
    "print(\" All 3 memories written to Qdrant, logged in DuckDB, and added to Neo4j.\")\n"
   ]
  },
  {
   "cell_type": "code",
   "execution_count": 15,
   "id": "a75cadc9-9a10-4aa5-aa49-9d6e8d81cad6",
   "metadata": {},
   "outputs": [
    {
     "name": "stdout",
     "output_type": "stream",
     "text": [
      "\n",
      " Retrieved Memories:\n",
      "- Q2 margins declined due to rising costs.\n",
      "- Q2 margins declined due to rising costs.\n",
      "- Client asked about Q2 revenue drop.\n",
      "\n",
      " Summary:\n",
      "📄 Summary: Most Q2 filings had margin pressure.\n"
     ]
    }
   ],
   "source": [
    "# Step 4: Query and Summarize\n",
    "\n",
    "query = \"What are Q2 risks?\"\n",
    "results = query_memory(query)\n",
    "\n",
    "print(\"\\n Retrieved Memories:\")\n",
    "for r in results:\n",
    "    print(\"-\", r[\"summary\"])\n",
    "\n",
    "print(\"\\n Summary:\")\n",
    "print(summarize_memories(results))"
   ]
  },
  {
   "cell_type": "code",
   "execution_count": null,
   "id": "641d9e84-979f-41ce-b790-73355ee08a56",
   "metadata": {},
   "outputs": [],
   "source": []
  }
 ],
 "metadata": {
  "kernelspec": {
   "display_name": "venv",
   "language": "python",
   "name": "venv"
  },
  "language_info": {
   "codemirror_mode": {
    "name": "ipython",
    "version": 3
   },
   "file_extension": ".py",
   "mimetype": "text/x-python",
   "name": "python",
   "nbconvert_exporter": "python",
   "pygments_lexer": "ipython3",
   "version": "3.9.6"
  }
 },
 "nbformat": 4,
 "nbformat_minor": 5
}
