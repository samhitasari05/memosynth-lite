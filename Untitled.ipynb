{
 "cells": [
  {
   "cell_type": "code",
   "execution_count": 9,
   "id": "3bf0616d-076c-4cd7-a3e5-f8cfbbf76a2e",
   "metadata": {},
   "outputs": [
    {
     "name": "stdout",
     "output_type": "stream",
     "text": [
      "/Users/samhi/Downloads/memosynth-lite\n"
     ]
    }
   ],
   "source": [
    "import os\n",
    "print(os.getcwd())"
   ]
  },
  {
   "cell_type": "code",
   "execution_count": 11,
   "id": "ee39bb93-d604-4d9f-951f-7ea547027a24",
   "metadata": {},
   "outputs": [],
   "source": [
    "import sys\n",
    "import os\n",
    "import json\n",
    "\n",
    "# Add project root to system path for imports\n",
    "project_root = os.path.abspath(os.path.join(os.getcwd(), '..'))\n",
    "sys.path.append(project_root)"
   ]
  },
  {
   "cell_type": "code",
   "execution_count": 13,
   "id": "37c5ced1-109a-401d-9c2f-991b5b40f9b1",
   "metadata": {},
   "outputs": [],
   "source": [
    "from memosynth.vector_store import write_memory, query_memory, create_collection"
   ]
  },
  {
   "cell_type": "code",
   "execution_count": 15,
   "id": "2bdc8611-cf90-4e13-9dc6-31b4f1f8d381",
   "metadata": {},
   "outputs": [],
   "source": [
    "# Replace with correct absolute path to your JSON file\n",
    "with open(\"/Users/samhi/Downloads/memosynth-lite/config/sample_memory.json\") as f:\n",
    "    memory = json.load(f)"
   ]
  },
  {
   "cell_type": "code",
   "execution_count": 17,
   "id": "04f89062-c8c2-4e6f-9e45-f35b0f20b379",
   "metadata": {},
   "outputs": [],
   "source": [
    "create_collection()"
   ]
  },
  {
   "cell_type": "code",
   "execution_count": 19,
   "id": "207347f3-504a-4d47-8644-cf2244568885",
   "metadata": {},
   "outputs": [
    {
     "name": "stdout",
     "output_type": "stream",
     "text": [
      "Collection created or already exists!\n"
     ]
    }
   ],
   "source": [
    "print(\"Collection created or already exists!\")"
   ]
  },
  {
   "cell_type": "code",
   "execution_count": 21,
   "id": "6f4ff9b7-a7fb-47d0-b39f-f4a077e7bdbe",
   "metadata": {},
   "outputs": [],
   "source": [
    "write_memory(memory)"
   ]
  },
  {
   "cell_type": "code",
   "execution_count": 23,
   "id": "bf932295-af05-4a3d-804c-e7df3c806686",
   "metadata": {},
   "outputs": [
    {
     "name": "stdout",
     "output_type": "stream",
     "text": [
      "Memory written to Qdrant successfully.\n"
     ]
    }
   ],
   "source": [
    "print(\"Memory written to Qdrant successfully.\")"
   ]
  },
  {
   "cell_type": "code",
   "execution_count": 25,
   "id": "7abcf121-60b4-4a8a-829e-1a27c0189fc9",
   "metadata": {},
   "outputs": [
    {
     "name": "stdout",
     "output_type": "stream",
     "text": [
      "[{'id': 1, 'content': 'Today I learned about vector databases and Qdrant.', 'project': 'demo_project', 'agent': 'doc_bot', 'summary': 'Client asked about margin drop in Q2.', 'type': 'insight', 'tags': ['finance', 'Q2', 'risk'], 'source': 'Earnings_Report_Q2.pdf', 'author': 'doc_bot', 'created_at': '2025-06-19', 'version': 1, 'confidence': 0.9, 'visibility': 'project', 'sensitivity': 'medium'}]\n"
     ]
    }
   ],
   "source": [
    "results = query_memory(\"Tell me about vector databases\")\n",
    "print(results)"
   ]
  },
  {
   "cell_type": "code",
   "execution_count": 27,
   "id": "c59f68c8-d07b-48d1-8a9e-db34ee345a9c",
   "metadata": {},
   "outputs": [
    {
     "name": "stderr",
     "output_type": "stream",
     "text": [
      "huggingface/tokenizers: The current process just got forked, after parallelism has already been used. Disabling parallelism to avoid deadlocks...\n",
      "To disable this warning, you can either:\n",
      "\t- Avoid using `tokenizers` before the fork if possible\n",
      "\t- Explicitly set the environment variable TOKENIZERS_PARALLELISM=(true | false)\n"
     ]
    },
    {
     "name": "stdout",
     "output_type": "stream",
     "text": [
      "Requirement already satisfied: duckdb in ./venv/lib/python3.9/site-packages (1.3.1)\n",
      "\u001b[33mWARNING: You are using pip version 21.2.4; however, version 25.1.1 is available.\n",
      "You should consider upgrading via the '/Users/samhi/Downloads/memosynth-lite/venv/bin/python3 -m pip install --upgrade pip' command.\u001b[0m\n"
     ]
    }
   ],
   "source": [
    "!pip install duckdb"
   ]
  },
  {
   "cell_type": "code",
   "execution_count": 29,
   "id": "6d4ae35c-9ccb-4252-90e3-c1b5d5dc995b",
   "metadata": {},
   "outputs": [
    {
     "name": "stdout",
     "output_type": "stream",
     "text": [
      "Memory inserted into DuckDB!\n"
     ]
    }
   ],
   "source": [
    "import duckdb\n",
    "import pandas as pd\n",
    "\n",
    "# 1. Load memory again (same as before)\n",
    "import json\n",
    "with open(\"/Users/samhi/Downloads/memosynth-lite/config/sample_memory.json\") as f:\n",
    "    memory = json.load(f)\n",
    "\n",
    "# 2. Convert memory to a DataFrame for structured access\n",
    "df = pd.DataFrame([memory])\n",
    "\n",
    "# 3. Connect to DuckDB (file-based or in-memory)\n",
    "con = duckdb.connect(\"memory_log.duckdb\")  # Creates file 'memory_log.duckdb'\n",
    "\n",
    "# 4. Create table and insert data\n",
    "con.execute(\"\"\"\n",
    "    CREATE TABLE IF NOT EXISTS memory_log AS\n",
    "    SELECT * FROM df\n",
    "\"\"\")\n",
    "\n",
    "print(\"Memory inserted into DuckDB!\")"
   ]
  },
  {
   "cell_type": "markdown",
   "id": "9006c898-eb11-47fe-bf01-d59fe0621d7b",
   "metadata": {},
   "source": [
    " Query Example"
   ]
  },
  {
   "cell_type": "code",
   "execution_count": 33,
   "id": "2fa662e5-0f34-4022-be35-432a53eba31f",
   "metadata": {},
   "outputs": [
    {
     "name": "stdout",
     "output_type": "stream",
     "text": [
      "                                 summary       project  created_at\n",
      "0  Client asked about margin drop in Q2.  demo_project  2025-06-19\n"
     ]
    }
   ],
   "source": [
    "result_df = con.execute(\"SELECT summary, project, created_at FROM memory_log\").df()\n",
    "print(result_df)"
   ]
  },
  {
   "cell_type": "code",
   "execution_count": null,
   "id": "df30419f-5554-408d-aced-048a929925c1",
   "metadata": {},
   "outputs": [],
   "source": []
  }
 ],
 "metadata": {
  "kernelspec": {
   "display_name": "venv",
   "language": "python",
   "name": "venv"
  },
  "language_info": {
   "codemirror_mode": {
    "name": "ipython",
    "version": 3
   },
   "file_extension": ".py",
   "mimetype": "text/x-python",
   "name": "python",
   "nbconvert_exporter": "python",
   "pygments_lexer": "ipython3",
   "version": "3.9.6"
  }
 },
 "nbformat": 4,
 "nbformat_minor": 5
}
